{
 "cells": [
  {
   "cell_type": "markdown",
   "metadata": {
    "toc": true
   },
   "source": [
    "<h1>Содержание<span class=\"tocSkip\"></span></h1>\n",
    "<div class=\"toc\"><ul class=\"toc-item\"><li><span><a href=\"#Подготовка\" data-toc-modified-id=\"Подготовка-1\"><span class=\"toc-item-num\">1&nbsp;&nbsp;</span>Подготовка</a></span></li><li><span><a href=\"#Обучение\" data-toc-modified-id=\"Обучение-2\"><span class=\"toc-item-num\">2&nbsp;&nbsp;</span>Обучение</a></span><ul class=\"toc-item\"><li><span><a href=\"#LogisticRegression\" data-toc-modified-id=\"LogisticRegression-2.1\"><span class=\"toc-item-num\">2.1&nbsp;&nbsp;</span>LogisticRegression</a></span></li><li><span><a href=\"#DecisionTreeClassifier\" data-toc-modified-id=\"DecisionTreeClassifier-2.2\"><span class=\"toc-item-num\">2.2&nbsp;&nbsp;</span>DecisionTreeClassifier</a></span></li><li><span><a href=\"#RandomForestClassifier\" data-toc-modified-id=\"RandomForestClassifier-2.3\"><span class=\"toc-item-num\">2.3&nbsp;&nbsp;</span>RandomForestClassifier</a></span></li><li><span><a href=\"#LGBMClassifier\" data-toc-modified-id=\"LGBMClassifier-2.4\"><span class=\"toc-item-num\">2.4&nbsp;&nbsp;</span>LGBMClassifier</a></span></li></ul></li><li><span><a href=\"#Тестирование\" data-toc-modified-id=\"Тестирование-3\"><span class=\"toc-item-num\">3&nbsp;&nbsp;</span>Тестирование</a></span></li><li><span><a href=\"#Выводы\" data-toc-modified-id=\"Выводы-4\"><span class=\"toc-item-num\">4&nbsp;&nbsp;</span>Выводы</a></span></li><li><span><a href=\"#Чек-лист-проверки\" data-toc-modified-id=\"Чек-лист-проверки-5\"><span class=\"toc-item-num\">5&nbsp;&nbsp;</span>Чек-лист проверки</a></span></li></ul></div>"
   ]
  },
  {
   "cell_type": "markdown",
   "metadata": {},
   "source": [
    "# Проект для «Викишоп»"
   ]
  },
  {
   "cell_type": "markdown",
   "metadata": {},
   "source": [
    "Интернет-магазин «Викишоп» запускает новый сервис. Теперь пользователи могут редактировать и дополнять описания товаров, как в вики-сообществах. То есть клиенты предлагают свои правки и комментируют изменения других. Магазину нужен инструмент, который будет искать токсичные комментарии и отправлять их на модерацию. \n",
    "\n",
    "Обучите модель классифицировать комментарии на позитивные и негативные. В вашем распоряжении набор данных с разметкой о токсичности правок.\n",
    "\n",
    "Постройте модель со значением метрики качества *F1* не меньше 0.75. \n",
    "\n",
    "**Инструкция по выполнению проекта**\n",
    "\n",
    "1. Загрузите и подготовьте данные.\n",
    "2. Обучите разные модели. \n",
    "3. Сделайте выводы.\n",
    "\n",
    "Для выполнения проекта применять *BERT* необязательно, но вы можете попробовать.\n",
    "\n",
    "**Описание данных**\n",
    "\n",
    "Данные находятся в файле `toxic_comments.csv`. Столбец *text* в нём содержит текст комментария, а *toxic* — целевой признак."
   ]
  },
  {
   "cell_type": "markdown",
   "metadata": {},
   "source": [
    "## Подготовка"
   ]
  },
  {
   "cell_type": "code",
   "execution_count": 71,
   "metadata": {
    "scrolled": false
   },
   "outputs": [
    {
     "name": "stderr",
     "output_type": "stream",
     "text": [
      "[nltk_data] Downloading package wordnet to /home/jovyan/nltk_data...\n",
      "[nltk_data]   Package wordnet is already up-to-date!\n",
      "[nltk_data] Downloading package punkt to /home/jovyan/nltk_data...\n",
      "[nltk_data]   Package punkt is already up-to-date!\n",
      "[nltk_data] Downloading package wordnet to /home/jovyan/nltk_data...\n",
      "[nltk_data]   Package wordnet is already up-to-date!\n",
      "[nltk_data] Downloading package averaged_perceptron_tagger to\n",
      "[nltk_data]     /home/jovyan/nltk_data...\n",
      "[nltk_data]   Package averaged_perceptron_tagger is already up-to-\n",
      "[nltk_data]       date!\n"
     ]
    }
   ],
   "source": [
    "import pandas as pd \n",
    "import numpy as np \n",
    "from tqdm import tqdm\n",
    "import catboost as cb\n",
    "import nltk \n",
    "from sklearn.pipeline import Pipeline\n",
    "from nltk.stem import WordNetLemmatizer \n",
    "from nltk.corpus import stopwords as nltk_stopwords\n",
    "from sklearn.feature_extraction.text import TfidfVectorizer, TfidfTransformer\n",
    "import re \n",
    "import matplotlib.pyplot as plt \n",
    "import seaborn as sns \n",
    "from sklearn.model_selection import train_test_split, GridSearchCV\n",
    "\n",
    "from sklearn.linear_model import LogisticRegression\n",
    "from sklearn.ensemble import RandomForestClassifier\n",
    "from sklearn.tree import DecisionTreeClassifier\n",
    "from lightgbm import LGBMClassifier\n",
    "from sklearn.metrics import f1_score\n",
    "\n",
    "from nltk.corpus import wordnet\n",
    "import nltk\n",
    "nltk.download('wordnet')\n",
    "nltk.download('punkt')\n",
    "nltk.download('wordnet')\n",
    "nltk.download('averaged_perceptron_tagger')\n",
    "import warnings\n",
    "warnings.filterwarnings('ignore')"
   ]
  },
  {
   "cell_type": "code",
   "execution_count": 4,
   "metadata": {},
   "outputs": [],
   "source": [
    "data = pd.read_csv('/datasets/toxic_comments.csv')"
   ]
  },
  {
   "cell_type": "code",
   "execution_count": 5,
   "metadata": {},
   "outputs": [
    {
     "data": {
      "text/html": [
       "<div>\n",
       "<style scoped>\n",
       "    .dataframe tbody tr th:only-of-type {\n",
       "        vertical-align: middle;\n",
       "    }\n",
       "\n",
       "    .dataframe tbody tr th {\n",
       "        vertical-align: top;\n",
       "    }\n",
       "\n",
       "    .dataframe thead th {\n",
       "        text-align: right;\n",
       "    }\n",
       "</style>\n",
       "<table border=\"1\" class=\"dataframe\">\n",
       "  <thead>\n",
       "    <tr style=\"text-align: right;\">\n",
       "      <th></th>\n",
       "      <th>Unnamed: 0</th>\n",
       "      <th>text</th>\n",
       "      <th>toxic</th>\n",
       "    </tr>\n",
       "  </thead>\n",
       "  <tbody>\n",
       "    <tr>\n",
       "      <th>0</th>\n",
       "      <td>0</td>\n",
       "      <td>Explanation\\nWhy the edits made under my usern...</td>\n",
       "      <td>0</td>\n",
       "    </tr>\n",
       "    <tr>\n",
       "      <th>1</th>\n",
       "      <td>1</td>\n",
       "      <td>D'aww! He matches this background colour I'm s...</td>\n",
       "      <td>0</td>\n",
       "    </tr>\n",
       "    <tr>\n",
       "      <th>2</th>\n",
       "      <td>2</td>\n",
       "      <td>Hey man, I'm really not trying to edit war. It...</td>\n",
       "      <td>0</td>\n",
       "    </tr>\n",
       "    <tr>\n",
       "      <th>3</th>\n",
       "      <td>3</td>\n",
       "      <td>\"\\nMore\\nI can't make any real suggestions on ...</td>\n",
       "      <td>0</td>\n",
       "    </tr>\n",
       "    <tr>\n",
       "      <th>4</th>\n",
       "      <td>4</td>\n",
       "      <td>You, sir, are my hero. Any chance you remember...</td>\n",
       "      <td>0</td>\n",
       "    </tr>\n",
       "    <tr>\n",
       "      <th>5</th>\n",
       "      <td>5</td>\n",
       "      <td>\"\\n\\nCongratulations from me as well, use the ...</td>\n",
       "      <td>0</td>\n",
       "    </tr>\n",
       "    <tr>\n",
       "      <th>6</th>\n",
       "      <td>6</td>\n",
       "      <td>COCKSUCKER BEFORE YOU PISS AROUND ON MY WORK</td>\n",
       "      <td>1</td>\n",
       "    </tr>\n",
       "    <tr>\n",
       "      <th>7</th>\n",
       "      <td>7</td>\n",
       "      <td>Your vandalism to the Matt Shirvington article...</td>\n",
       "      <td>0</td>\n",
       "    </tr>\n",
       "    <tr>\n",
       "      <th>8</th>\n",
       "      <td>8</td>\n",
       "      <td>Sorry if the word 'nonsense' was offensive to ...</td>\n",
       "      <td>0</td>\n",
       "    </tr>\n",
       "    <tr>\n",
       "      <th>9</th>\n",
       "      <td>9</td>\n",
       "      <td>alignment on this subject and which are contra...</td>\n",
       "      <td>0</td>\n",
       "    </tr>\n",
       "  </tbody>\n",
       "</table>\n",
       "</div>"
      ],
      "text/plain": [
       "   Unnamed: 0                                               text  toxic\n",
       "0           0  Explanation\\nWhy the edits made under my usern...      0\n",
       "1           1  D'aww! He matches this background colour I'm s...      0\n",
       "2           2  Hey man, I'm really not trying to edit war. It...      0\n",
       "3           3  \"\\nMore\\nI can't make any real suggestions on ...      0\n",
       "4           4  You, sir, are my hero. Any chance you remember...      0\n",
       "5           5  \"\\n\\nCongratulations from me as well, use the ...      0\n",
       "6           6       COCKSUCKER BEFORE YOU PISS AROUND ON MY WORK      1\n",
       "7           7  Your vandalism to the Matt Shirvington article...      0\n",
       "8           8  Sorry if the word 'nonsense' was offensive to ...      0\n",
       "9           9  alignment on this subject and which are contra...      0"
      ]
     },
     "execution_count": 5,
     "metadata": {},
     "output_type": "execute_result"
    }
   ],
   "source": [
    "data.head(10)"
   ]
  },
  {
   "cell_type": "code",
   "execution_count": 6,
   "metadata": {},
   "outputs": [],
   "source": [
    "data = data.drop(columns = 'Unnamed: 0', axis = 1)"
   ]
  },
  {
   "cell_type": "code",
   "execution_count": 7,
   "metadata": {},
   "outputs": [
    {
     "data": {
      "text/html": [
       "<div>\n",
       "<style scoped>\n",
       "    .dataframe tbody tr th:only-of-type {\n",
       "        vertical-align: middle;\n",
       "    }\n",
       "\n",
       "    .dataframe tbody tr th {\n",
       "        vertical-align: top;\n",
       "    }\n",
       "\n",
       "    .dataframe thead th {\n",
       "        text-align: right;\n",
       "    }\n",
       "</style>\n",
       "<table border=\"1\" class=\"dataframe\">\n",
       "  <thead>\n",
       "    <tr style=\"text-align: right;\">\n",
       "      <th></th>\n",
       "      <th>text</th>\n",
       "      <th>toxic</th>\n",
       "    </tr>\n",
       "  </thead>\n",
       "  <tbody>\n",
       "    <tr>\n",
       "      <th>0</th>\n",
       "      <td>Explanation\\nWhy the edits made under my usern...</td>\n",
       "      <td>0</td>\n",
       "    </tr>\n",
       "    <tr>\n",
       "      <th>1</th>\n",
       "      <td>D'aww! He matches this background colour I'm s...</td>\n",
       "      <td>0</td>\n",
       "    </tr>\n",
       "    <tr>\n",
       "      <th>2</th>\n",
       "      <td>Hey man, I'm really not trying to edit war. It...</td>\n",
       "      <td>0</td>\n",
       "    </tr>\n",
       "    <tr>\n",
       "      <th>3</th>\n",
       "      <td>\"\\nMore\\nI can't make any real suggestions on ...</td>\n",
       "      <td>0</td>\n",
       "    </tr>\n",
       "    <tr>\n",
       "      <th>4</th>\n",
       "      <td>You, sir, are my hero. Any chance you remember...</td>\n",
       "      <td>0</td>\n",
       "    </tr>\n",
       "    <tr>\n",
       "      <th>5</th>\n",
       "      <td>\"\\n\\nCongratulations from me as well, use the ...</td>\n",
       "      <td>0</td>\n",
       "    </tr>\n",
       "    <tr>\n",
       "      <th>6</th>\n",
       "      <td>COCKSUCKER BEFORE YOU PISS AROUND ON MY WORK</td>\n",
       "      <td>1</td>\n",
       "    </tr>\n",
       "    <tr>\n",
       "      <th>7</th>\n",
       "      <td>Your vandalism to the Matt Shirvington article...</td>\n",
       "      <td>0</td>\n",
       "    </tr>\n",
       "    <tr>\n",
       "      <th>8</th>\n",
       "      <td>Sorry if the word 'nonsense' was offensive to ...</td>\n",
       "      <td>0</td>\n",
       "    </tr>\n",
       "    <tr>\n",
       "      <th>9</th>\n",
       "      <td>alignment on this subject and which are contra...</td>\n",
       "      <td>0</td>\n",
       "    </tr>\n",
       "  </tbody>\n",
       "</table>\n",
       "</div>"
      ],
      "text/plain": [
       "                                                text  toxic\n",
       "0  Explanation\\nWhy the edits made under my usern...      0\n",
       "1  D'aww! He matches this background colour I'm s...      0\n",
       "2  Hey man, I'm really not trying to edit war. It...      0\n",
       "3  \"\\nMore\\nI can't make any real suggestions on ...      0\n",
       "4  You, sir, are my hero. Any chance you remember...      0\n",
       "5  \"\\n\\nCongratulations from me as well, use the ...      0\n",
       "6       COCKSUCKER BEFORE YOU PISS AROUND ON MY WORK      1\n",
       "7  Your vandalism to the Matt Shirvington article...      0\n",
       "8  Sorry if the word 'nonsense' was offensive to ...      0\n",
       "9  alignment on this subject and which are contra...      0"
      ]
     },
     "execution_count": 7,
     "metadata": {},
     "output_type": "execute_result"
    }
   ],
   "source": [
    "data.head(10)"
   ]
  },
  {
   "cell_type": "code",
   "execution_count": 8,
   "metadata": {},
   "outputs": [
    {
     "data": {
      "text/plain": [
       "(159292, 2)"
      ]
     },
     "execution_count": 8,
     "metadata": {},
     "output_type": "execute_result"
    }
   ],
   "source": [
    "data.shape"
   ]
  },
  {
   "cell_type": "code",
   "execution_count": 9,
   "metadata": {
    "scrolled": true
   },
   "outputs": [
    {
     "name": "stdout",
     "output_type": "stream",
     "text": [
      "<class 'pandas.core.frame.DataFrame'>\n",
      "RangeIndex: 159292 entries, 0 to 159291\n",
      "Data columns (total 2 columns):\n",
      " #   Column  Non-Null Count   Dtype \n",
      "---  ------  --------------   ----- \n",
      " 0   text    159292 non-null  object\n",
      " 1   toxic   159292 non-null  int64 \n",
      "dtypes: int64(1), object(1)\n",
      "memory usage: 2.4+ MB\n"
     ]
    }
   ],
   "source": [
    "data.info()"
   ]
  },
  {
   "cell_type": "code",
   "execution_count": 10,
   "metadata": {},
   "outputs": [
    {
     "data": {
      "text/plain": [
       "text     0\n",
       "toxic    0\n",
       "dtype: int64"
      ]
     },
     "execution_count": 10,
     "metadata": {},
     "output_type": "execute_result"
    }
   ],
   "source": [
    "data.isnull().sum()"
   ]
  },
  {
   "cell_type": "code",
   "execution_count": 11,
   "metadata": {
    "scrolled": true
   },
   "outputs": [
    {
     "data": {
      "text/plain": [
       "0"
      ]
     },
     "execution_count": 11,
     "metadata": {},
     "output_type": "execute_result"
    }
   ],
   "source": [
    "data.duplicated().sum()"
   ]
  },
  {
   "cell_type": "code",
   "execution_count": 12,
   "metadata": {},
   "outputs": [
    {
     "data": {
      "text/html": [
       "<div>\n",
       "<style scoped>\n",
       "    .dataframe tbody tr th:only-of-type {\n",
       "        vertical-align: middle;\n",
       "    }\n",
       "\n",
       "    .dataframe tbody tr th {\n",
       "        vertical-align: top;\n",
       "    }\n",
       "\n",
       "    .dataframe thead th {\n",
       "        text-align: right;\n",
       "    }\n",
       "</style>\n",
       "<table border=\"1\" class=\"dataframe\">\n",
       "  <thead>\n",
       "    <tr style=\"text-align: right;\">\n",
       "      <th></th>\n",
       "      <th>toxic</th>\n",
       "    </tr>\n",
       "  </thead>\n",
       "  <tbody>\n",
       "    <tr>\n",
       "      <th>count</th>\n",
       "      <td>159292.000000</td>\n",
       "    </tr>\n",
       "    <tr>\n",
       "      <th>mean</th>\n",
       "      <td>0.101612</td>\n",
       "    </tr>\n",
       "    <tr>\n",
       "      <th>std</th>\n",
       "      <td>0.302139</td>\n",
       "    </tr>\n",
       "    <tr>\n",
       "      <th>min</th>\n",
       "      <td>0.000000</td>\n",
       "    </tr>\n",
       "    <tr>\n",
       "      <th>25%</th>\n",
       "      <td>0.000000</td>\n",
       "    </tr>\n",
       "    <tr>\n",
       "      <th>50%</th>\n",
       "      <td>0.000000</td>\n",
       "    </tr>\n",
       "    <tr>\n",
       "      <th>75%</th>\n",
       "      <td>0.000000</td>\n",
       "    </tr>\n",
       "    <tr>\n",
       "      <th>max</th>\n",
       "      <td>1.000000</td>\n",
       "    </tr>\n",
       "  </tbody>\n",
       "</table>\n",
       "</div>"
      ],
      "text/plain": [
       "               toxic\n",
       "count  159292.000000\n",
       "mean        0.101612\n",
       "std         0.302139\n",
       "min         0.000000\n",
       "25%         0.000000\n",
       "50%         0.000000\n",
       "75%         0.000000\n",
       "max         1.000000"
      ]
     },
     "execution_count": 12,
     "metadata": {},
     "output_type": "execute_result"
    }
   ],
   "source": [
    "data.describe()"
   ]
  },
  {
   "cell_type": "code",
   "execution_count": 13,
   "metadata": {},
   "outputs": [],
   "source": [
    "data['text'] = data['text'].str.lower()"
   ]
  },
  {
   "cell_type": "code",
   "execution_count": 14,
   "metadata": {},
   "outputs": [],
   "source": [
    "data_corpus = data.copy()"
   ]
  },
  {
   "cell_type": "code",
   "execution_count": 15,
   "metadata": {},
   "outputs": [],
   "source": [
    "corpus = data_corpus['text'].values"
   ]
  },
  {
   "cell_type": "code",
   "execution_count": 16,
   "metadata": {},
   "outputs": [],
   "source": [
    "def get_wordnet_pos(word):\n",
    "    tag = nltk.pos_tag([word])[0][1][0].upper()\n",
    "    tag_dict = {\"J\": wordnet.ADJ,\n",
    "                \"N\": wordnet.NOUN,\n",
    "                \"V\": wordnet.VERB,\n",
    "                \"R\": wordnet.ADV}\n",
    "    return tag_dict.get(tag, wordnet.NOUN)"
   ]
  },
  {
   "cell_type": "code",
   "execution_count": 17,
   "metadata": {},
   "outputs": [],
   "source": [
    "def clear_text(text):\n",
    "    pattern = re.sub(r'[^a-zA-Z]', ' ', text)\n",
    "    clear = pattern.split()\n",
    "    lemm = []\n",
    "    for i in range(len(clear)):\n",
    "        lemm.append(clear[i])\n",
    "    return \" \".join(lemm)"
   ]
  },
  {
   "cell_type": "code",
   "execution_count": 18,
   "metadata": {},
   "outputs": [],
   "source": [
    "wnl = WordNetLemmatizer()\n",
    "\n",
    "def lemma(text):\n",
    "    return ' '.join([wnl.lemmatize(w, get_wordnet_pos(w)) for w in nltk.word_tokenize(text)])"
   ]
  },
  {
   "cell_type": "code",
   "execution_count": 19,
   "metadata": {
    "scrolled": true
   },
   "outputs": [
    {
     "name": "stderr",
     "output_type": "stream",
     "text": [
      "100%|██████████| 159292/159292 [00:05<00:00, 31018.40it/s]\n"
     ]
    }
   ],
   "source": [
    "for i in tqdm(range(len(corpus))):\n",
    "    corpus[i] = clear_text(corpus[i])"
   ]
  },
  {
   "cell_type": "code",
   "execution_count": 20,
   "metadata": {},
   "outputs": [
    {
     "name": "stderr",
     "output_type": "stream",
     "text": [
      "100%|██████████| 159292/159292 [21:08<00:00, 125.56it/s]\n"
     ]
    }
   ],
   "source": [
    "for i in tqdm(range(len(data_corpus))):\n",
    "    corpus[i] = lemma(corpus[i])"
   ]
  },
  {
   "cell_type": "code",
   "execution_count": 21,
   "metadata": {},
   "outputs": [],
   "source": [
    "data_corpus = pd.DataFrame(corpus)"
   ]
  },
  {
   "cell_type": "code",
   "execution_count": 22,
   "metadata": {},
   "outputs": [],
   "source": [
    "data['lemm_text'] = data_corpus[0]"
   ]
  },
  {
   "cell_type": "code",
   "execution_count": 23,
   "metadata": {},
   "outputs": [
    {
     "data": {
      "text/html": [
       "<div>\n",
       "<style scoped>\n",
       "    .dataframe tbody tr th:only-of-type {\n",
       "        vertical-align: middle;\n",
       "    }\n",
       "\n",
       "    .dataframe tbody tr th {\n",
       "        vertical-align: top;\n",
       "    }\n",
       "\n",
       "    .dataframe thead th {\n",
       "        text-align: right;\n",
       "    }\n",
       "</style>\n",
       "<table border=\"1\" class=\"dataframe\">\n",
       "  <thead>\n",
       "    <tr style=\"text-align: right;\">\n",
       "      <th></th>\n",
       "      <th>text</th>\n",
       "      <th>toxic</th>\n",
       "      <th>lemm_text</th>\n",
       "    </tr>\n",
       "  </thead>\n",
       "  <tbody>\n",
       "    <tr>\n",
       "      <th>0</th>\n",
       "      <td>explanation\\nwhy the edits made under my usern...</td>\n",
       "      <td>0</td>\n",
       "      <td>explanation why the edits make under my userna...</td>\n",
       "    </tr>\n",
       "    <tr>\n",
       "      <th>1</th>\n",
       "      <td>d'aww! he matches this background colour i'm s...</td>\n",
       "      <td>0</td>\n",
       "      <td>d aww he match this background colour i m seem...</td>\n",
       "    </tr>\n",
       "    <tr>\n",
       "      <th>2</th>\n",
       "      <td>hey man, i'm really not trying to edit war. it...</td>\n",
       "      <td>0</td>\n",
       "      <td>hey man i m really not try to edit war it s ju...</td>\n",
       "    </tr>\n",
       "    <tr>\n",
       "      <th>3</th>\n",
       "      <td>\"\\nmore\\ni can't make any real suggestions on ...</td>\n",
       "      <td>0</td>\n",
       "      <td>more i can t make any real suggestion on impro...</td>\n",
       "    </tr>\n",
       "    <tr>\n",
       "      <th>4</th>\n",
       "      <td>you, sir, are my hero. any chance you remember...</td>\n",
       "      <td>0</td>\n",
       "      <td>you sir be my hero any chance you remember wha...</td>\n",
       "    </tr>\n",
       "    <tr>\n",
       "      <th>5</th>\n",
       "      <td>\"\\n\\ncongratulations from me as well, use the ...</td>\n",
       "      <td>0</td>\n",
       "      <td>congratulation from me a well use the tool wel...</td>\n",
       "    </tr>\n",
       "    <tr>\n",
       "      <th>6</th>\n",
       "      <td>cocksucker before you piss around on my work</td>\n",
       "      <td>1</td>\n",
       "      <td>cocksucker before you piss around on my work</td>\n",
       "    </tr>\n",
       "    <tr>\n",
       "      <th>7</th>\n",
       "      <td>your vandalism to the matt shirvington article...</td>\n",
       "      <td>0</td>\n",
       "      <td>your vandalism to the matt shirvington article...</td>\n",
       "    </tr>\n",
       "    <tr>\n",
       "      <th>8</th>\n",
       "      <td>sorry if the word 'nonsense' was offensive to ...</td>\n",
       "      <td>0</td>\n",
       "      <td>sorry if the word nonsense be offensive to you...</td>\n",
       "    </tr>\n",
       "    <tr>\n",
       "      <th>9</th>\n",
       "      <td>alignment on this subject and which are contra...</td>\n",
       "      <td>0</td>\n",
       "      <td>alignment on this subject and which be contrar...</td>\n",
       "    </tr>\n",
       "  </tbody>\n",
       "</table>\n",
       "</div>"
      ],
      "text/plain": [
       "                                                text  toxic  \\\n",
       "0  explanation\\nwhy the edits made under my usern...      0   \n",
       "1  d'aww! he matches this background colour i'm s...      0   \n",
       "2  hey man, i'm really not trying to edit war. it...      0   \n",
       "3  \"\\nmore\\ni can't make any real suggestions on ...      0   \n",
       "4  you, sir, are my hero. any chance you remember...      0   \n",
       "5  \"\\n\\ncongratulations from me as well, use the ...      0   \n",
       "6       cocksucker before you piss around on my work      1   \n",
       "7  your vandalism to the matt shirvington article...      0   \n",
       "8  sorry if the word 'nonsense' was offensive to ...      0   \n",
       "9  alignment on this subject and which are contra...      0   \n",
       "\n",
       "                                           lemm_text  \n",
       "0  explanation why the edits make under my userna...  \n",
       "1  d aww he match this background colour i m seem...  \n",
       "2  hey man i m really not try to edit war it s ju...  \n",
       "3  more i can t make any real suggestion on impro...  \n",
       "4  you sir be my hero any chance you remember wha...  \n",
       "5  congratulation from me a well use the tool wel...  \n",
       "6       cocksucker before you piss around on my work  \n",
       "7  your vandalism to the matt shirvington article...  \n",
       "8  sorry if the word nonsense be offensive to you...  \n",
       "9  alignment on this subject and which be contrar...  "
      ]
     },
     "execution_count": 23,
     "metadata": {},
     "output_type": "execute_result"
    }
   ],
   "source": [
    "data.head(10)"
   ]
  },
  {
   "cell_type": "code",
   "execution_count": 24,
   "metadata": {
    "scrolled": false
   },
   "outputs": [
    {
     "data": {
      "text/plain": [
       "Text(0.5, 1.0, 'Распределение комментариев')"
      ]
     },
     "execution_count": 24,
     "metadata": {},
     "output_type": "execute_result"
    },
    {
     "data": {
      "image/png": "[encoded data removed]",
      "text/plain": [
       "<Figure size 1080x432 with 1 Axes>"
      ]
     },
     "metadata": {
      "needs_background": "light"
     },
     "output_type": "display_data"
    }
   ],
   "source": [
    "plt.figure(figsize=(15, 6))\n",
    "sns.countplot(x='toxic', data=data)\n",
    "plt.xlabel('Токсичность комментария', fontsize = 16)\n",
    "plt.ylabel('Количество комментраиев', fontsize = 16)\n",
    "plt.title('Распределение комментариев', fontsize = 20)"
   ]
  },
  {
   "cell_type": "markdown",
   "metadata": {},
   "source": [
    "Разделим на выборки"
   ]
  },
  {
   "cell_type": "code",
   "execution_count": 25,
   "metadata": {},
   "outputs": [],
   "source": [
    "feature = data['lemm_text']\n",
    "target = data['toxic']"
   ]
  },
  {
   "cell_type": "code",
   "execution_count": 26,
   "metadata": {},
   "outputs": [],
   "source": [
    "feature_train, feature_test, target_train, target_test = train_test_split(feature, target, test_size=0.25)"
   ]
  },
  {
   "cell_type": "code",
   "execution_count": 27,
   "metadata": {},
   "outputs": [
    {
     "name": "stdout",
     "output_type": "stream",
     "text": [
      "(119469,) (39823,) (119469,) (39823,)\n"
     ]
    }
   ],
   "source": [
    "print(feature_train.shape, feature_test.shape, target_train.shape, target_test.shape)"
   ]
  },
  {
   "cell_type": "code",
   "execution_count": 28,
   "metadata": {},
   "outputs": [
    {
     "name": "stderr",
     "output_type": "stream",
     "text": [
      "[nltk_data] Downloading package stopwords to /home/jovyan/nltk_data...\n",
      "[nltk_data]   Unzipping corpora/stopwords.zip.\n"
     ]
    }
   ],
   "source": [
    "nltk.download('stopwords')\n",
    "stopwords = set(nltk_stopwords.words('english'))"
   ]
  },
  {
   "cell_type": "code",
   "execution_count": 29,
   "metadata": {},
   "outputs": [],
   "source": [
    "count_tf_idf = TfidfVectorizer(stop_words=stopwords) \n",
    "\n",
    "feature_train = count_tf_idf.fit_transform(feature_train) \n",
    "feature_test = count_tf_idf.transform(feature_test) "
   ]
  },
  {
   "cell_type": "code",
   "execution_count": 30,
   "metadata": {},
   "outputs": [
    {
     "name": "stdout",
     "output_type": "stream",
     "text": [
      "(119469, 127745) (39823, 127745)\n"
     ]
    }
   ],
   "source": [
    "print(feature_train.shape, feature_test.shape)"
   ]
  },
  {
   "cell_type": "markdown",
   "metadata": {},
   "source": [
    "На первом этапе произведена загрузка данных и их подготовка для обучения моделей. Для анализа данных и построения модели предоставлен датасет с размеченными данными.\n",
    "\n",
    "Дубликатов и пропусков в данных нету. \n",
    "\n",
    "Была проведена лемматизация текста и очистка текста. В целевых значениях виден явный дисбаланс. Учтем это при подборе модели обучения. "
   ]
  },
  {
   "cell_type": "markdown",
   "metadata": {},
   "source": [
    "## Обучение"
   ]
  },
  {
   "cell_type": "code",
   "execution_count": 31,
   "metadata": {},
   "outputs": [],
   "source": [
    "metrics_results = pd.DataFrame(columns=['F1'])"
   ]
  },
  {
   "cell_type": "code",
   "execution_count": 32,
   "metadata": {},
   "outputs": [],
   "source": [
    "def metrics(model_name, F1):\n",
    "    metrics_results.loc[model_name,'F1'] = F1\n",
    "    metrics_results['Model'] = metrics_results.index\n",
    "    return metrics_results"
   ]
  },
  {
   "cell_type": "code",
   "execution_count": 35,
   "metadata": {},
   "outputs": [],
   "source": [
    "def gridi_train (regressor, parametrs, model_name):\n",
    "    pipe = Pipeline(\n",
    "    [\n",
    "        ('tfidf', TfidfTransformer()),\n",
    "        ('clf', regressor(random_state=12345))\n",
    "    ])\n",
    "\n",
    "    model = GridSearchCV(estimator=pipe,\n",
    "                         param_grid=parametrs,\n",
    "                         cv=3,\n",
    "                         n_jobs=-1,\n",
    "                         scoring='f1')\n",
    "    model.fit(feature_train, target_train)\n",
    "    print('Показатель F1:', model.best_score_, 'при параметрах:', model.best_params_)\n",
    "    metrics(model_name, model.best_score_)"
   ]
  },
  {
   "cell_type": "markdown",
   "metadata": {},
   "source": [
    "### LogisticRegression"
   ]
  },
  {
   "cell_type": "code",
   "execution_count": 67,
   "metadata": {},
   "outputs": [
    {
     "name": "stdout",
     "output_type": "stream",
     "text": [
      "Показатель F1: 0.7534090486281698 при параметрах: {'clf__C': 10, 'clf__class_weight': 'balanced', 'clf__max_iter': 25, 'clf__solver': 'lbfgs'}\n"
     ]
    }
   ],
   "source": [
    "parametrs_lr = {'clf__solver' : ['newton-cg', 'lbfgs', 'liblinear'],\n",
    "                'clf__C': [1, 10, 100],\n",
    "                'clf__max_iter':[10, 25,50],\n",
    "                'clf__class_weight': ['balanced']}\n",
    "gridi_train(LogisticRegression, parametrs_lr, 'LogisticRegression')"
   ]
  },
  {
   "cell_type": "markdown",
   "metadata": {},
   "source": [
    "### DecisionTreeClassifier"
   ]
  },
  {
   "cell_type": "code",
   "execution_count": 46,
   "metadata": {},
   "outputs": [
    {
     "name": "stdout",
     "output_type": "stream",
     "text": [
      "Показатель F1: 0.6359991247865195 при параметрах: {'clf__class_weight': 'balanced', 'clf__max_depth': 30}\n"
     ]
    }
   ],
   "source": [
    "parametrs_dt = {'clf__class_weight': ['balanced'],\n",
    "                'clf__max_depth': range(10, 40, 10)\n",
    "               }\n",
    "gridi_train(DecisionTreeClassifier, parametrs_dt, 'DecisionTreeClassifier')"
   ]
  },
  {
   "cell_type": "markdown",
   "metadata": {},
   "source": [
    "### RandomForestClassifier"
   ]
  },
  {
   "cell_type": "code",
   "execution_count": 47,
   "metadata": {},
   "outputs": [
    {
     "name": "stdout",
     "output_type": "stream",
     "text": [
      "Показатель F1: 0.4172805040864324 при параметрах: {'clf__class_weight': 'balanced', 'clf__max_depth': 30, 'clf__n_estimators': 55}\n"
     ]
    }
   ],
   "source": [
    "parametrs_rf = {'clf__class_weight': ['balanced'],\n",
    "                'clf__n_estimators': range(10, 56, 15),\n",
    "               'clf__max_depth': range(10, 40, 10)\n",
    "               }\n",
    "gridi_train(RandomForestClassifier, parametrs_rf, 'RandomForestClassifier')"
   ]
  },
  {
   "cell_type": "markdown",
   "metadata": {},
   "source": [
    "### LGBMClassifier"
   ]
  },
  {
   "cell_type": "code",
   "execution_count": 60,
   "metadata": {},
   "outputs": [
    {
     "name": "stdout",
     "output_type": "stream",
     "text": [
      "Показатель F1: 0.6852066647272358 при параметрах: {'clf__class_weight': 'balanced', 'clf__max_depth': 20, 'clf__n_estimators': 20}\n"
     ]
    }
   ],
   "source": [
    "parametrs_lgbm = {'clf__class_weight': ['balanced'],\n",
    "                  'clf__n_estimators': [10,20],\n",
    "                  'clf__max_depth': [10,20]\n",
    "               }\n",
    "gridi_train(LGBMClassifier, parametrs_lgbm, 'LGBMClassifier')"
   ]
  },
  {
   "cell_type": "code",
   "execution_count": 68,
   "metadata": {
    "scrolled": true
   },
   "outputs": [
    {
     "data": {
      "text/html": [
       "<div>\n",
       "<style scoped>\n",
       "    .dataframe tbody tr th:only-of-type {\n",
       "        vertical-align: middle;\n",
       "    }\n",
       "\n",
       "    .dataframe tbody tr th {\n",
       "        vertical-align: top;\n",
       "    }\n",
       "\n",
       "    .dataframe thead th {\n",
       "        text-align: right;\n",
       "    }\n",
       "</style>\n",
       "<table border=\"1\" class=\"dataframe\">\n",
       "  <thead>\n",
       "    <tr style=\"text-align: right;\">\n",
       "      <th></th>\n",
       "      <th>F1</th>\n",
       "      <th>Model</th>\n",
       "    </tr>\n",
       "  </thead>\n",
       "  <tbody>\n",
       "    <tr>\n",
       "      <th>LogisticRegression</th>\n",
       "      <td>0.753409</td>\n",
       "      <td>LogisticRegression</td>\n",
       "    </tr>\n",
       "    <tr>\n",
       "      <th>DecisionTreeClassifier</th>\n",
       "      <td>0.635999</td>\n",
       "      <td>DecisionTreeClassifier</td>\n",
       "    </tr>\n",
       "    <tr>\n",
       "      <th>RandomForestClassifier</th>\n",
       "      <td>0.417281</td>\n",
       "      <td>RandomForestClassifier</td>\n",
       "    </tr>\n",
       "    <tr>\n",
       "      <th>LGBMClassifier</th>\n",
       "      <td>0.685207</td>\n",
       "      <td>LGBMClassifier</td>\n",
       "    </tr>\n",
       "  </tbody>\n",
       "</table>\n",
       "</div>"
      ],
      "text/plain": [
       "                              F1                   Model\n",
       "LogisticRegression      0.753409      LogisticRegression\n",
       "DecisionTreeClassifier  0.635999  DecisionTreeClassifier\n",
       "RandomForestClassifier  0.417281  RandomForestClassifier\n",
       "LGBMClassifier          0.685207          LGBMClassifier"
      ]
     },
     "execution_count": 68,
     "metadata": {},
     "output_type": "execute_result"
    }
   ],
   "source": [
    "metrics_results"
   ]
  },
  {
   "cell_type": "markdown",
   "metadata": {},
   "source": [
    "Были построенны  моделей машинного обучения. Изучены метрики RMSE и время на предсказание моделей и сведены в общую таблицу"
   ]
  },
  {
   "cell_type": "markdown",
   "metadata": {},
   "source": [
    "## Тестирование"
   ]
  },
  {
   "cell_type": "markdown",
   "metadata": {},
   "source": [
    "Посмотрим на все полученные данные"
   ]
  },
  {
   "cell_type": "code",
   "execution_count": 69,
   "metadata": {},
   "outputs": [
    {
     "data": {
      "text/html": [
       "<div>\n",
       "<style scoped>\n",
       "    .dataframe tbody tr th:only-of-type {\n",
       "        vertical-align: middle;\n",
       "    }\n",
       "\n",
       "    .dataframe tbody tr th {\n",
       "        vertical-align: top;\n",
       "    }\n",
       "\n",
       "    .dataframe thead th {\n",
       "        text-align: right;\n",
       "    }\n",
       "</style>\n",
       "<table border=\"1\" class=\"dataframe\">\n",
       "  <thead>\n",
       "    <tr style=\"text-align: right;\">\n",
       "      <th></th>\n",
       "      <th>F1</th>\n",
       "      <th>Model</th>\n",
       "    </tr>\n",
       "  </thead>\n",
       "  <tbody>\n",
       "    <tr>\n",
       "      <th>LogisticRegression</th>\n",
       "      <td>0.753409</td>\n",
       "      <td>LogisticRegression</td>\n",
       "    </tr>\n",
       "    <tr>\n",
       "      <th>DecisionTreeClassifier</th>\n",
       "      <td>0.635999</td>\n",
       "      <td>DecisionTreeClassifier</td>\n",
       "    </tr>\n",
       "    <tr>\n",
       "      <th>RandomForestClassifier</th>\n",
       "      <td>0.417281</td>\n",
       "      <td>RandomForestClassifier</td>\n",
       "    </tr>\n",
       "    <tr>\n",
       "      <th>LGBMClassifier</th>\n",
       "      <td>0.685207</td>\n",
       "      <td>LGBMClassifier</td>\n",
       "    </tr>\n",
       "  </tbody>\n",
       "</table>\n",
       "</div>"
      ],
      "text/plain": [
       "                              F1                   Model\n",
       "LogisticRegression      0.753409      LogisticRegression\n",
       "DecisionTreeClassifier  0.635999  DecisionTreeClassifier\n",
       "RandomForestClassifier  0.417281  RandomForestClassifier\n",
       "LGBMClassifier          0.685207          LGBMClassifier"
      ]
     },
     "execution_count": 69,
     "metadata": {},
     "output_type": "execute_result"
    }
   ],
   "source": [
    "metrics_results"
   ]
  },
  {
   "cell_type": "markdown",
   "metadata": {},
   "source": [
    "Можем увидеть, что на обучающей выборке лучший результат показал LogisticRegression. Немного уступает LGBMClassifier. Поэтому модель будет тестировать на LogisticRegression"
   ]
  },
  {
   "cell_type": "code",
   "execution_count": 70,
   "metadata": {},
   "outputs": [
    {
     "name": "stdout",
     "output_type": "stream",
     "text": [
      "Показатель F1: 0.751168605283183\n"
     ]
    }
   ],
   "source": [
    "model = LogisticRegression(class_weight = 'balanced', C = 10, solver = 'lbfgs', max_iter = 25)\n",
    "model.fit(feature_train, target_train)\n",
    "prediction = model.predict(feature_test)\n",
    "test_f1 = f1_score(target_test, prediction)\n",
    "print('Показатель F1:',test_f1)"
   ]
  },
  {
   "cell_type": "markdown",
   "metadata": {},
   "source": [
    "## Выводы"
   ]
  },
  {
   "cell_type": "markdown",
   "metadata": {},
   "source": [
    "В ходе работы было выполнена:\n",
    "- Предобработка данных;\n",
    "- Проведена лемматизация текста и очистка текста;\n",
    "- Построены 5 моделей машинного улучшения для выявления самого подходящего метода;\n",
    "- С использованием лучшей модели и лучших гиперпараметров, на тренировочной выборке была найдена метрика F1. По итогам построения моделей, была выявлена лучшая для тестовой выборки: LogisticRegression (Показатель метрики F1 на тестовой модели = 0.751)"
   ]
  }
 ],
 "metadata": {
  "ExecuteTimeLog": [
   {
    "duration": 1516,
    "start_time": "2022-08-28T00:04:38.135Z"
   },
   {
    "duration": 44,
    "start_time": "2022-08-28T00:04:47.992Z"
   },
   {
    "duration": 342,
    "start_time": "2022-08-28T00:05:01.740Z"
   },
   {
    "duration": 1527,
    "start_time": "2022-08-28T00:05:26.813Z"
   },
   {
    "duration": 256,
    "start_time": "2022-08-28T00:05:53.786Z"
   },
   {
    "duration": 2277,
    "start_time": "2022-08-28T00:06:22.144Z"
   },
   {
    "duration": 12,
    "start_time": "2022-08-28T00:06:31.273Z"
   },
   {
    "duration": 718,
    "start_time": "2022-08-28T00:07:06.615Z"
   },
   {
    "duration": 7,
    "start_time": "2022-08-28T00:07:07.336Z"
   },
   {
    "duration": 1509,
    "start_time": "2022-08-28T00:07:12.387Z"
   },
   {
    "duration": 781,
    "start_time": "2022-08-28T00:07:13.898Z"
   },
   {
    "duration": 12,
    "start_time": "2022-08-28T00:07:14.680Z"
   },
   {
    "duration": 408,
    "start_time": "2022-08-28T00:07:52.909Z"
   },
   {
    "duration": 719,
    "start_time": "2022-08-28T00:07:55.014Z"
   },
   {
    "duration": 6,
    "start_time": "2022-08-28T00:07:55.735Z"
   },
   {
    "duration": 12,
    "start_time": "2022-08-28T00:08:36.735Z"
   },
   {
    "duration": 9,
    "start_time": "2022-08-28T00:08:41.522Z"
   },
   {
    "duration": 8,
    "start_time": "2022-08-28T00:08:49.193Z"
   },
   {
    "duration": 4,
    "start_time": "2022-08-28T00:08:54.968Z"
   },
   {
    "duration": 33,
    "start_time": "2022-08-28T00:09:19.482Z"
   },
   {
    "duration": 28,
    "start_time": "2022-08-28T00:09:32.678Z"
   },
   {
    "duration": 134,
    "start_time": "2022-08-28T00:09:44.971Z"
   },
   {
    "duration": 217,
    "start_time": "2022-08-28T00:09:48.169Z"
   },
   {
    "duration": 188,
    "start_time": "2022-08-28T00:09:52.151Z"
   },
   {
    "duration": 19,
    "start_time": "2022-08-28T00:10:18.657Z"
   },
   {
    "duration": 1837,
    "start_time": "2022-08-28T00:11:01.636Z"
   },
   {
    "duration": 11,
    "start_time": "2022-08-28T00:11:17.519Z"
   },
   {
    "duration": 10,
    "start_time": "2022-08-28T00:11:20.902Z"
   },
   {
    "duration": 10,
    "start_time": "2022-08-28T00:11:31.323Z"
   },
   {
    "duration": 9,
    "start_time": "2022-08-28T00:11:44.163Z"
   },
   {
    "duration": 1440,
    "start_time": "2022-08-28T00:11:50.112Z"
   },
   {
    "duration": 797,
    "start_time": "2022-08-28T00:11:51.554Z"
   },
   {
    "duration": 13,
    "start_time": "2022-08-28T00:11:52.353Z"
   },
   {
    "duration": 20,
    "start_time": "2022-08-28T00:11:52.367Z"
   },
   {
    "duration": 9,
    "start_time": "2022-08-28T00:11:52.389Z"
   },
   {
    "duration": 5,
    "start_time": "2022-08-28T00:11:52.399Z"
   },
   {
    "duration": 30,
    "start_time": "2022-08-28T00:11:52.406Z"
   },
   {
    "duration": 50,
    "start_time": "2022-08-28T00:11:52.437Z"
   },
   {
    "duration": 221,
    "start_time": "2022-08-28T00:11:52.488Z"
   },
   {
    "duration": 14,
    "start_time": "2022-08-28T00:11:52.711Z"
   },
   {
    "duration": 43,
    "start_time": "2022-08-28T00:12:09.223Z"
   },
   {
    "duration": 1543,
    "start_time": "2022-08-28T00:12:13.236Z"
   },
   {
    "duration": 2282,
    "start_time": "2022-08-28T00:12:14.781Z"
   },
   {
    "duration": 13,
    "start_time": "2022-08-28T00:12:17.065Z"
   },
   {
    "duration": 13,
    "start_time": "2022-08-28T00:12:17.079Z"
   },
   {
    "duration": 7,
    "start_time": "2022-08-28T00:12:17.094Z"
   },
   {
    "duration": 5,
    "start_time": "2022-08-28T00:12:17.102Z"
   },
   {
    "duration": 39,
    "start_time": "2022-08-28T00:12:17.109Z"
   },
   {
    "duration": 40,
    "start_time": "2022-08-28T00:12:17.149Z"
   },
   {
    "duration": 238,
    "start_time": "2022-08-28T00:12:17.191Z"
   },
   {
    "duration": 15,
    "start_time": "2022-08-28T00:12:17.431Z"
   },
   {
    "duration": 1555,
    "start_time": "2022-08-28T00:12:29.532Z"
   },
   {
    "duration": 2341,
    "start_time": "2022-08-28T00:12:31.089Z"
   },
   {
    "duration": 14,
    "start_time": "2022-08-28T00:12:33.432Z"
   },
   {
    "duration": 12,
    "start_time": "2022-08-28T00:12:33.448Z"
   },
   {
    "duration": 8,
    "start_time": "2022-08-28T00:12:33.461Z"
   },
   {
    "duration": 17,
    "start_time": "2022-08-28T00:12:33.470Z"
   },
   {
    "duration": 36,
    "start_time": "2022-08-28T00:12:33.489Z"
   },
   {
    "duration": 28,
    "start_time": "2022-08-28T00:12:33.527Z"
   },
   {
    "duration": 236,
    "start_time": "2022-08-28T00:12:33.557Z"
   },
   {
    "duration": 14,
    "start_time": "2022-08-28T00:12:33.796Z"
   },
   {
    "duration": 1007,
    "start_time": "2022-08-28T00:13:06.179Z"
   },
   {
    "duration": 1,
    "start_time": "2022-08-28T00:13:07.188Z"
   },
   {
    "duration": 0,
    "start_time": "2022-08-28T00:13:07.190Z"
   },
   {
    "duration": 0,
    "start_time": "2022-08-28T00:13:07.191Z"
   },
   {
    "duration": 0,
    "start_time": "2022-08-28T00:13:07.192Z"
   },
   {
    "duration": 0,
    "start_time": "2022-08-28T00:13:07.194Z"
   },
   {
    "duration": 0,
    "start_time": "2022-08-28T00:13:07.195Z"
   },
   {
    "duration": 0,
    "start_time": "2022-08-28T00:13:07.196Z"
   },
   {
    "duration": 0,
    "start_time": "2022-08-28T00:13:07.198Z"
   },
   {
    "duration": 0,
    "start_time": "2022-08-28T00:13:07.200Z"
   },
   {
    "duration": 0,
    "start_time": "2022-08-28T00:13:07.201Z"
   },
   {
    "duration": 813,
    "start_time": "2022-08-28T00:14:52.462Z"
   },
   {
    "duration": 2513,
    "start_time": "2022-08-28T00:14:55.161Z"
   },
   {
    "duration": 13,
    "start_time": "2022-08-28T00:15:30.603Z"
   },
   {
    "duration": 17,
    "start_time": "2022-08-28T00:15:31.586Z"
   },
   {
    "duration": 13,
    "start_time": "2022-08-28T00:15:32.880Z"
   },
   {
    "duration": 5,
    "start_time": "2022-08-28T00:15:33.167Z"
   },
   {
    "duration": 36,
    "start_time": "2022-08-28T00:15:33.501Z"
   },
   {
    "duration": 30,
    "start_time": "2022-08-28T00:15:33.951Z"
   },
   {
    "duration": 257,
    "start_time": "2022-08-28T00:15:34.379Z"
   },
   {
    "duration": 14,
    "start_time": "2022-08-28T00:15:35.232Z"
   },
   {
    "duration": 1882,
    "start_time": "2022-08-28T00:15:35.825Z"
   },
   {
    "duration": 35,
    "start_time": "2022-08-28T00:16:22.701Z"
   },
   {
    "duration": 9,
    "start_time": "2022-08-28T00:25:24.220Z"
   },
   {
    "duration": 12,
    "start_time": "2022-08-28T00:25:26.567Z"
   },
   {
    "duration": 9,
    "start_time": "2022-08-28T00:25:31.900Z"
   },
   {
    "duration": 3,
    "start_time": "2022-08-28T00:26:37.842Z"
   },
   {
    "duration": 13,
    "start_time": "2022-08-28T00:26:47.056Z"
   },
   {
    "duration": 23,
    "start_time": "2022-08-28T00:27:04.655Z"
   },
   {
    "duration": 3,
    "start_time": "2022-08-28T00:27:07.837Z"
   },
   {
    "duration": 16,
    "start_time": "2022-08-28T00:27:08.260Z"
   },
   {
    "duration": 3,
    "start_time": "2022-08-28T00:28:24.631Z"
   },
   {
    "duration": 24,
    "start_time": "2022-08-28T00:28:24.838Z"
   },
   {
    "duration": 12,
    "start_time": "2022-08-28T00:29:52.866Z"
   },
   {
    "duration": 1500,
    "start_time": "2022-08-28T00:36:06.256Z"
   },
   {
    "duration": 2518,
    "start_time": "2022-08-28T00:36:07.758Z"
   },
   {
    "duration": 19,
    "start_time": "2022-08-28T00:36:10.278Z"
   },
   {
    "duration": 22,
    "start_time": "2022-08-28T00:36:10.301Z"
   },
   {
    "duration": 10,
    "start_time": "2022-08-28T00:36:10.325Z"
   },
   {
    "duration": 8,
    "start_time": "2022-08-28T00:36:10.337Z"
   },
   {
    "duration": 41,
    "start_time": "2022-08-28T00:36:10.347Z"
   },
   {
    "duration": 28,
    "start_time": "2022-08-28T00:36:10.389Z"
   },
   {
    "duration": 228,
    "start_time": "2022-08-28T00:36:10.418Z"
   },
   {
    "duration": 15,
    "start_time": "2022-08-28T00:36:10.648Z"
   },
   {
    "duration": 1911,
    "start_time": "2022-08-28T00:36:10.665Z"
   },
   {
    "duration": 119,
    "start_time": "2022-08-28T00:36:30.698Z"
   },
   {
    "duration": 10,
    "start_time": "2022-08-28T00:36:37.797Z"
   },
   {
    "duration": 13,
    "start_time": "2022-08-28T00:38:30.831Z"
   },
   {
    "duration": 1615,
    "start_time": "2022-08-28T00:38:37.158Z"
   },
   {
    "duration": 864,
    "start_time": "2022-08-28T00:38:38.775Z"
   },
   {
    "duration": 20,
    "start_time": "2022-08-28T00:38:39.641Z"
   },
   {
    "duration": 32,
    "start_time": "2022-08-28T00:38:39.664Z"
   },
   {
    "duration": 19,
    "start_time": "2022-08-28T00:38:39.704Z"
   },
   {
    "duration": 17,
    "start_time": "2022-08-28T00:38:39.724Z"
   },
   {
    "duration": 43,
    "start_time": "2022-08-28T00:38:39.743Z"
   },
   {
    "duration": 30,
    "start_time": "2022-08-28T00:38:39.790Z"
   },
   {
    "duration": 246,
    "start_time": "2022-08-28T00:38:39.822Z"
   },
   {
    "duration": 24,
    "start_time": "2022-08-28T00:38:40.070Z"
   },
   {
    "duration": 2012,
    "start_time": "2022-08-28T00:38:40.095Z"
   },
   {
    "duration": 145,
    "start_time": "2022-08-28T00:39:23.484Z"
   },
   {
    "duration": 266,
    "start_time": "2022-08-28T00:39:43.813Z"
   },
   {
    "duration": 1736,
    "start_time": "2022-08-28T00:39:52.364Z"
   },
   {
    "duration": 831,
    "start_time": "2022-08-28T00:39:54.102Z"
   },
   {
    "duration": 11,
    "start_time": "2022-08-28T00:39:54.939Z"
   },
   {
    "duration": 11,
    "start_time": "2022-08-28T00:39:54.951Z"
   },
   {
    "duration": 26,
    "start_time": "2022-08-28T00:39:54.964Z"
   },
   {
    "duration": 14,
    "start_time": "2022-08-28T00:39:54.998Z"
   },
   {
    "duration": 38,
    "start_time": "2022-08-28T00:39:55.014Z"
   },
   {
    "duration": 37,
    "start_time": "2022-08-28T00:39:55.054Z"
   },
   {
    "duration": 246,
    "start_time": "2022-08-28T00:39:55.095Z"
   },
   {
    "duration": 15,
    "start_time": "2022-08-28T00:39:55.343Z"
   },
   {
    "duration": 1980,
    "start_time": "2022-08-28T00:39:55.360Z"
   },
   {
    "duration": 4,
    "start_time": "2022-08-28T00:39:57.341Z"
   },
   {
    "duration": 3,
    "start_time": "2022-08-28T00:41:25.834Z"
   },
   {
    "duration": 3,
    "start_time": "2022-08-28T00:41:53.213Z"
   },
   {
    "duration": 3,
    "start_time": "2022-08-28T00:58:19.611Z"
   },
   {
    "duration": 229,
    "start_time": "2022-08-28T00:58:40.102Z"
   },
   {
    "duration": 43,
    "start_time": "2022-08-28T01:00:22.200Z"
   },
   {
    "duration": 6,
    "start_time": "2022-08-28T01:00:56.868Z"
   },
   {
    "duration": 1628,
    "start_time": "2022-08-28T01:01:05.046Z"
   },
   {
    "duration": 2476,
    "start_time": "2022-08-28T01:01:06.676Z"
   },
   {
    "duration": 11,
    "start_time": "2022-08-28T01:01:09.154Z"
   },
   {
    "duration": 11,
    "start_time": "2022-08-28T01:01:09.166Z"
   },
   {
    "duration": 12,
    "start_time": "2022-08-28T01:01:09.179Z"
   },
   {
    "duration": 11,
    "start_time": "2022-08-28T01:01:09.195Z"
   },
   {
    "duration": 33,
    "start_time": "2022-08-28T01:01:09.207Z"
   },
   {
    "duration": 27,
    "start_time": "2022-08-28T01:01:09.241Z"
   },
   {
    "duration": 233,
    "start_time": "2022-08-28T01:01:09.269Z"
   },
   {
    "duration": 15,
    "start_time": "2022-08-28T01:01:09.503Z"
   },
   {
    "duration": 1914,
    "start_time": "2022-08-28T01:01:09.519Z"
   },
   {
    "duration": 6,
    "start_time": "2022-08-28T01:01:11.435Z"
   },
   {
    "duration": 41198,
    "start_time": "2022-08-28T01:01:19.778Z"
   },
   {
    "duration": 866,
    "start_time": "2022-08-28T01:02:37.308Z"
   },
   {
    "duration": 8,
    "start_time": "2022-08-28T01:03:05.304Z"
   },
   {
    "duration": 8,
    "start_time": "2022-08-28T01:03:12.753Z"
   },
   {
    "duration": 437,
    "start_time": "2022-08-28T01:07:37.903Z"
   },
   {
    "duration": 126,
    "start_time": "2022-08-28T01:07:51.034Z"
   },
   {
    "duration": 13,
    "start_time": "2022-08-28T01:08:35.603Z"
   },
   {
    "duration": 133,
    "start_time": "2022-08-28T01:08:39.810Z"
   },
   {
    "duration": 132,
    "start_time": "2022-08-28T01:09:03.370Z"
   },
   {
    "duration": 125,
    "start_time": "2022-08-28T01:09:33.900Z"
   },
   {
    "duration": 151,
    "start_time": "2022-08-28T01:09:58.371Z"
   },
   {
    "duration": 137,
    "start_time": "2022-08-28T01:10:04.867Z"
   },
   {
    "duration": 144,
    "start_time": "2022-08-28T01:10:22.401Z"
   },
   {
    "duration": 139,
    "start_time": "2022-08-28T01:10:31.902Z"
   },
   {
    "duration": 159,
    "start_time": "2022-08-28T01:10:34.108Z"
   },
   {
    "duration": 183,
    "start_time": "2022-08-28T01:10:42.860Z"
   },
   {
    "duration": 214,
    "start_time": "2022-08-28T01:12:26.648Z"
   },
   {
    "duration": 17,
    "start_time": "2022-08-28T01:12:54.883Z"
   },
   {
    "duration": 8,
    "start_time": "2022-08-28T01:13:01.470Z"
   },
   {
    "duration": 20,
    "start_time": "2022-08-28T01:13:16.582Z"
   },
   {
    "duration": 1628,
    "start_time": "2022-08-28T01:13:55.252Z"
   },
   {
    "duration": 737,
    "start_time": "2022-08-28T01:13:56.882Z"
   },
   {
    "duration": 13,
    "start_time": "2022-08-28T01:13:57.621Z"
   },
   {
    "duration": 10,
    "start_time": "2022-08-28T01:13:57.636Z"
   },
   {
    "duration": 9,
    "start_time": "2022-08-28T01:13:57.648Z"
   },
   {
    "duration": 5,
    "start_time": "2022-08-28T01:13:57.659Z"
   },
   {
    "duration": 52,
    "start_time": "2022-08-28T01:13:57.665Z"
   },
   {
    "duration": 27,
    "start_time": "2022-08-28T01:13:57.718Z"
   },
   {
    "duration": 251,
    "start_time": "2022-08-28T01:13:57.747Z"
   },
   {
    "duration": 17,
    "start_time": "2022-08-28T01:13:58.001Z"
   },
   {
    "duration": 1877,
    "start_time": "2022-08-28T01:13:58.019Z"
   },
   {
    "duration": 9,
    "start_time": "2022-08-28T01:13:59.898Z"
   },
   {
    "duration": 41452,
    "start_time": "2022-08-28T01:13:59.909Z"
   },
   {
    "duration": 211,
    "start_time": "2022-08-28T01:14:41.363Z"
   },
   {
    "duration": 9153,
    "start_time": "2022-08-28T01:14:41.575Z"
   },
   {
    "duration": 5883,
    "start_time": "2022-08-28T01:14:50.730Z"
   },
   {
    "duration": 5,
    "start_time": "2022-08-28T01:14:56.615Z"
   },
   {
    "duration": 18,
    "start_time": "2022-08-28T01:14:56.621Z"
   },
   {
    "duration": 164,
    "start_time": "2022-08-28T01:14:56.640Z"
   },
   {
    "duration": 3,
    "start_time": "2022-08-28T01:15:07.900Z"
   },
   {
    "duration": 6,
    "start_time": "2022-08-28T01:15:08.409Z"
   },
   {
    "duration": 13,
    "start_time": "2022-08-28T01:15:08.885Z"
   },
   {
    "duration": 1545,
    "start_time": "2022-08-28T01:18:30.529Z"
   },
   {
    "duration": 725,
    "start_time": "2022-08-28T01:18:32.076Z"
   },
   {
    "duration": 11,
    "start_time": "2022-08-28T01:18:32.803Z"
   },
   {
    "duration": 13,
    "start_time": "2022-08-28T01:18:32.815Z"
   },
   {
    "duration": 20,
    "start_time": "2022-08-28T01:18:32.830Z"
   },
   {
    "duration": 10,
    "start_time": "2022-08-28T01:18:32.852Z"
   },
   {
    "duration": 46,
    "start_time": "2022-08-28T01:18:32.864Z"
   },
   {
    "duration": 29,
    "start_time": "2022-08-28T01:18:32.911Z"
   },
   {
    "duration": 237,
    "start_time": "2022-08-28T01:18:32.941Z"
   },
   {
    "duration": 18,
    "start_time": "2022-08-28T01:18:33.180Z"
   },
   {
    "duration": 1892,
    "start_time": "2022-08-28T01:18:33.200Z"
   },
   {
    "duration": 7,
    "start_time": "2022-08-28T01:18:35.093Z"
   },
   {
    "duration": 37876,
    "start_time": "2022-08-28T01:18:35.103Z"
   },
   {
    "duration": 149,
    "start_time": "2022-08-28T01:19:12.984Z"
   },
   {
    "duration": 681,
    "start_time": "2022-08-28T01:29:51.513Z"
   },
   {
    "duration": 8,
    "start_time": "2022-08-28T01:30:07.615Z"
   },
   {
    "duration": 8,
    "start_time": "2022-08-28T01:30:12.562Z"
   },
   {
    "duration": 4,
    "start_time": "2022-08-28T01:32:33.784Z"
   },
   {
    "duration": 3,
    "start_time": "2022-08-28T01:32:55.487Z"
   },
   {
    "duration": 3,
    "start_time": "2022-08-28T01:33:47.133Z"
   },
   {
    "duration": 31,
    "start_time": "2022-08-28T01:35:53.902Z"
   },
   {
    "duration": 4,
    "start_time": "2022-08-28T01:36:16.976Z"
   },
   {
    "duration": 203,
    "start_time": "2022-08-28T01:36:32.572Z"
   },
   {
    "duration": 125,
    "start_time": "2022-08-28T01:37:31.287Z"
   },
   {
    "duration": 43,
    "start_time": "2022-08-28T01:37:34.700Z"
   },
   {
    "duration": 4,
    "start_time": "2022-08-28T01:37:35.056Z"
   },
   {
    "duration": 4,
    "start_time": "2022-08-28T01:37:35.435Z"
   },
   {
    "duration": 11,
    "start_time": "2022-08-28T01:37:35.941Z"
   },
   {
    "duration": 6577,
    "start_time": "2022-08-28T01:37:49.934Z"
   },
   {
    "duration": 4,
    "start_time": "2022-08-28T01:38:25.278Z"
   },
   {
    "duration": 6,
    "start_time": "2022-08-28T01:52:02.983Z"
   },
   {
    "duration": 3,
    "start_time": "2022-08-28T01:52:03.462Z"
   },
   {
    "duration": 4,
    "start_time": "2022-08-28T01:54:05.741Z"
   },
   {
    "duration": 14,
    "start_time": "2022-08-28T01:55:57.104Z"
   },
   {
    "duration": 5,
    "start_time": "2022-08-28T01:56:12.357Z"
   },
   {
    "duration": 12,
    "start_time": "2022-08-28T01:56:15.143Z"
   },
   {
    "duration": 11,
    "start_time": "2022-08-28T01:56:25.461Z"
   },
   {
    "duration": 33,
    "start_time": "2022-08-28T01:57:07.942Z"
   },
   {
    "duration": 14,
    "start_time": "2022-08-28T01:57:13.030Z"
   },
   {
    "duration": 1631,
    "start_time": "2022-08-28T01:58:04.349Z"
   },
   {
    "duration": 2302,
    "start_time": "2022-08-28T01:58:05.982Z"
   },
   {
    "duration": 13,
    "start_time": "2022-08-28T01:58:08.286Z"
   },
   {
    "duration": 17,
    "start_time": "2022-08-28T01:58:08.301Z"
   },
   {
    "duration": 16,
    "start_time": "2022-08-28T01:58:08.320Z"
   },
   {
    "duration": 14,
    "start_time": "2022-08-28T01:58:08.338Z"
   },
   {
    "duration": 41,
    "start_time": "2022-08-28T01:58:08.354Z"
   },
   {
    "duration": 28,
    "start_time": "2022-08-28T01:58:08.396Z"
   },
   {
    "duration": 240,
    "start_time": "2022-08-28T01:58:08.426Z"
   },
   {
    "duration": 27,
    "start_time": "2022-08-28T01:58:08.668Z"
   },
   {
    "duration": 1901,
    "start_time": "2022-08-28T01:58:08.697Z"
   },
   {
    "duration": 8,
    "start_time": "2022-08-28T01:58:10.600Z"
   },
   {
    "duration": 39424,
    "start_time": "2022-08-28T01:58:10.610Z"
   },
   {
    "duration": 653,
    "start_time": "2022-08-28T01:58:50.036Z"
   },
   {
    "duration": 13,
    "start_time": "2022-08-28T01:58:50.691Z"
   },
   {
    "duration": 25,
    "start_time": "2022-08-28T01:58:50.706Z"
   },
   {
    "duration": 160,
    "start_time": "2022-08-28T01:58:50.733Z"
   },
   {
    "duration": 3,
    "start_time": "2022-08-28T01:58:50.895Z"
   },
   {
    "duration": 38,
    "start_time": "2022-08-28T01:58:50.900Z"
   },
   {
    "duration": 4,
    "start_time": "2022-08-28T01:58:50.940Z"
   },
   {
    "duration": 135,
    "start_time": "2022-08-28T01:58:50.946Z"
   },
   {
    "duration": 6427,
    "start_time": "2022-08-28T01:58:51.083Z"
   },
   {
    "duration": 3,
    "start_time": "2022-08-28T01:58:57.512Z"
   },
   {
    "duration": 8,
    "start_time": "2022-08-28T01:58:57.516Z"
   },
   {
    "duration": 5,
    "start_time": "2022-08-28T01:58:57.526Z"
   },
   {
    "duration": 55,
    "start_time": "2022-08-28T01:58:57.532Z"
   },
   {
    "duration": 122,
    "start_time": "2022-08-28T01:59:19.541Z"
   },
   {
    "duration": 55,
    "start_time": "2022-08-28T01:59:28.744Z"
   },
   {
    "duration": 52,
    "start_time": "2022-08-28T01:59:40.032Z"
   },
   {
    "duration": 60,
    "start_time": "2022-08-28T02:03:42.769Z"
   },
   {
    "duration": 90,
    "start_time": "2022-08-28T02:03:56.537Z"
   },
   {
    "duration": 3,
    "start_time": "2022-08-28T02:04:08.434Z"
   },
   {
    "duration": 41,
    "start_time": "2022-08-28T02:05:38.443Z"
   },
   {
    "duration": 4,
    "start_time": "2022-08-28T02:05:54.736Z"
   },
   {
    "duration": 35,
    "start_time": "2022-08-28T02:05:56.032Z"
   },
   {
    "duration": 5,
    "start_time": "2022-08-28T02:06:17.789Z"
   },
   {
    "duration": 46,
    "start_time": "2022-08-28T02:06:18.274Z"
   },
   {
    "duration": 36,
    "start_time": "2022-08-28T02:06:25.157Z"
   },
   {
    "duration": 4,
    "start_time": "2022-08-28T02:07:16.501Z"
   },
   {
    "duration": 40,
    "start_time": "2022-08-28T02:07:17.366Z"
   },
   {
    "duration": 28,
    "start_time": "2022-08-28T02:07:40.591Z"
   },
   {
    "duration": 7,
    "start_time": "2022-08-28T02:08:25.198Z"
   },
   {
    "duration": 1718,
    "start_time": "2022-08-28T02:09:02.485Z"
   },
   {
    "duration": 2297,
    "start_time": "2022-08-28T02:09:04.205Z"
   },
   {
    "duration": 11,
    "start_time": "2022-08-28T02:09:06.504Z"
   },
   {
    "duration": 11,
    "start_time": "2022-08-28T02:09:06.517Z"
   },
   {
    "duration": 9,
    "start_time": "2022-08-28T02:09:06.530Z"
   },
   {
    "duration": 6,
    "start_time": "2022-08-28T02:09:06.540Z"
   },
   {
    "duration": 45,
    "start_time": "2022-08-28T02:09:06.548Z"
   },
   {
    "duration": 27,
    "start_time": "2022-08-28T02:09:06.594Z"
   },
   {
    "duration": 241,
    "start_time": "2022-08-28T02:09:06.623Z"
   },
   {
    "duration": 26,
    "start_time": "2022-08-28T02:09:06.866Z"
   },
   {
    "duration": 1946,
    "start_time": "2022-08-28T02:09:06.894Z"
   },
   {
    "duration": 9,
    "start_time": "2022-08-28T02:09:08.842Z"
   },
   {
    "duration": 39404,
    "start_time": "2022-08-28T02:09:08.852Z"
   },
   {
    "duration": 694,
    "start_time": "2022-08-28T02:09:48.259Z"
   },
   {
    "duration": 13,
    "start_time": "2022-08-28T02:09:48.955Z"
   },
   {
    "duration": 21,
    "start_time": "2022-08-28T02:09:48.969Z"
   },
   {
    "duration": 172,
    "start_time": "2022-08-28T02:09:48.992Z"
   },
   {
    "duration": 3,
    "start_time": "2022-08-28T02:09:49.165Z"
   },
   {
    "duration": 45,
    "start_time": "2022-08-28T02:09:49.170Z"
   },
   {
    "duration": 4,
    "start_time": "2022-08-28T02:09:49.217Z"
   },
   {
    "duration": 212,
    "start_time": "2022-08-28T02:09:49.223Z"
   },
   {
    "duration": 6479,
    "start_time": "2022-08-28T02:09:49.437Z"
   },
   {
    "duration": 4,
    "start_time": "2022-08-28T02:09:55.917Z"
   },
   {
    "duration": 13,
    "start_time": "2022-08-28T02:09:55.923Z"
   },
   {
    "duration": 5,
    "start_time": "2022-08-28T02:09:55.937Z"
   },
   {
    "duration": 5,
    "start_time": "2022-08-28T02:09:55.944Z"
   },
   {
    "duration": 51,
    "start_time": "2022-08-28T02:13:33.079Z"
   },
   {
    "duration": 1655,
    "start_time": "2022-08-28T02:13:58.865Z"
   },
   {
    "duration": 2303,
    "start_time": "2022-08-28T02:14:00.521Z"
   },
   {
    "duration": 13,
    "start_time": "2022-08-28T02:14:02.826Z"
   },
   {
    "duration": 18,
    "start_time": "2022-08-28T02:14:02.842Z"
   },
   {
    "duration": 11,
    "start_time": "2022-08-28T02:14:02.864Z"
   },
   {
    "duration": 24,
    "start_time": "2022-08-28T02:14:02.892Z"
   },
   {
    "duration": 39,
    "start_time": "2022-08-28T02:14:02.918Z"
   },
   {
    "duration": 27,
    "start_time": "2022-08-28T02:14:02.959Z"
   },
   {
    "duration": 245,
    "start_time": "2022-08-28T02:14:02.988Z"
   },
   {
    "duration": 21,
    "start_time": "2022-08-28T02:14:03.237Z"
   },
   {
    "duration": 2011,
    "start_time": "2022-08-28T02:14:03.260Z"
   },
   {
    "duration": 14,
    "start_time": "2022-08-28T02:14:05.273Z"
   },
   {
    "duration": 39298,
    "start_time": "2022-08-28T02:14:05.289Z"
   },
   {
    "duration": 719,
    "start_time": "2022-08-28T02:14:44.589Z"
   },
   {
    "duration": 20,
    "start_time": "2022-08-28T02:14:45.310Z"
   },
   {
    "duration": 16,
    "start_time": "2022-08-28T02:14:45.332Z"
   },
   {
    "duration": 172,
    "start_time": "2022-08-28T02:14:45.351Z"
   },
   {
    "duration": 3,
    "start_time": "2022-08-28T02:14:45.525Z"
   },
   {
    "duration": 35,
    "start_time": "2022-08-28T02:14:45.530Z"
   },
   {
    "duration": 19,
    "start_time": "2022-08-28T02:14:45.567Z"
   },
   {
    "duration": 159,
    "start_time": "2022-08-28T02:14:45.588Z"
   },
   {
    "duration": 6354,
    "start_time": "2022-08-28T02:14:45.749Z"
   },
   {
    "duration": 3,
    "start_time": "2022-08-28T02:14:52.105Z"
   },
   {
    "duration": 9,
    "start_time": "2022-08-28T02:14:52.110Z"
   },
   {
    "duration": 13,
    "start_time": "2022-08-28T02:14:52.120Z"
   },
   {
    "duration": 14,
    "start_time": "2022-08-28T02:14:52.135Z"
   },
   {
    "duration": 1730,
    "start_time": "2022-08-28T02:18:53.139Z"
   },
   {
    "duration": 2229,
    "start_time": "2022-08-28T02:18:54.871Z"
   },
   {
    "duration": 13,
    "start_time": "2022-08-28T02:18:57.102Z"
   },
   {
    "duration": 17,
    "start_time": "2022-08-28T02:18:57.118Z"
   },
   {
    "duration": 13,
    "start_time": "2022-08-28T02:18:57.137Z"
   },
   {
    "duration": 5,
    "start_time": "2022-08-28T02:18:57.152Z"
   },
   {
    "duration": 46,
    "start_time": "2022-08-28T02:18:57.160Z"
   },
   {
    "duration": 28,
    "start_time": "2022-08-28T02:18:57.207Z"
   },
   {
    "duration": 237,
    "start_time": "2022-08-28T02:18:57.236Z"
   },
   {
    "duration": 21,
    "start_time": "2022-08-28T02:18:57.477Z"
   },
   {
    "duration": 1945,
    "start_time": "2022-08-28T02:18:57.499Z"
   },
   {
    "duration": 6,
    "start_time": "2022-08-28T02:18:59.446Z"
   },
   {
    "duration": 39393,
    "start_time": "2022-08-28T02:18:59.453Z"
   },
   {
    "duration": 670,
    "start_time": "2022-08-28T02:19:38.847Z"
   },
   {
    "duration": 12,
    "start_time": "2022-08-28T02:19:39.519Z"
   },
   {
    "duration": 10,
    "start_time": "2022-08-28T02:19:39.532Z"
   },
   {
    "duration": 167,
    "start_time": "2022-08-28T02:19:39.544Z"
   },
   {
    "duration": 3,
    "start_time": "2022-08-28T02:19:39.713Z"
   },
   {
    "duration": 36,
    "start_time": "2022-08-28T02:19:39.718Z"
   },
   {
    "duration": 5,
    "start_time": "2022-08-28T02:19:39.756Z"
   },
   {
    "duration": 177,
    "start_time": "2022-08-28T02:19:39.764Z"
   },
   {
    "duration": 6537,
    "start_time": "2022-08-28T02:19:39.943Z"
   },
   {
    "duration": 3,
    "start_time": "2022-08-28T02:19:46.484Z"
   },
   {
    "duration": 9,
    "start_time": "2022-08-28T02:19:46.489Z"
   },
   {
    "duration": 8,
    "start_time": "2022-08-28T02:19:46.499Z"
   },
   {
    "duration": 5,
    "start_time": "2022-08-28T02:19:46.508Z"
   },
   {
    "duration": 19347,
    "start_time": "2022-08-28T02:21:04.521Z"
   },
   {
    "duration": 4,
    "start_time": "2022-08-28T02:26:30.505Z"
   },
   {
    "duration": 1637,
    "start_time": "2022-08-28T02:27:07.200Z"
   },
   {
    "duration": 2249,
    "start_time": "2022-08-28T02:27:08.840Z"
   },
   {
    "duration": 12,
    "start_time": "2022-08-28T02:27:11.091Z"
   },
   {
    "duration": 12,
    "start_time": "2022-08-28T02:27:11.105Z"
   },
   {
    "duration": 11,
    "start_time": "2022-08-28T02:27:11.119Z"
   },
   {
    "duration": 7,
    "start_time": "2022-08-28T02:27:11.132Z"
   },
   {
    "duration": 52,
    "start_time": "2022-08-28T02:27:11.140Z"
   },
   {
    "duration": 28,
    "start_time": "2022-08-28T02:27:11.194Z"
   },
   {
    "duration": 243,
    "start_time": "2022-08-28T02:27:11.223Z"
   },
   {
    "duration": 28,
    "start_time": "2022-08-28T02:27:11.468Z"
   },
   {
    "duration": 1947,
    "start_time": "2022-08-28T02:27:11.498Z"
   },
   {
    "duration": 10,
    "start_time": "2022-08-28T02:27:13.447Z"
   },
   {
    "duration": 39104,
    "start_time": "2022-08-28T02:27:13.458Z"
   },
   {
    "duration": 702,
    "start_time": "2022-08-28T02:27:52.565Z"
   },
   {
    "duration": 19,
    "start_time": "2022-08-28T02:27:53.269Z"
   },
   {
    "duration": 11,
    "start_time": "2022-08-28T02:27:53.289Z"
   },
   {
    "duration": 168,
    "start_time": "2022-08-28T02:27:53.301Z"
   },
   {
    "duration": 3,
    "start_time": "2022-08-28T02:27:53.470Z"
   },
   {
    "duration": 46,
    "start_time": "2022-08-28T02:27:53.485Z"
   },
   {
    "duration": 4,
    "start_time": "2022-08-28T02:27:53.533Z"
   },
   {
    "duration": 153,
    "start_time": "2022-08-28T02:27:53.538Z"
   },
   {
    "duration": 6600,
    "start_time": "2022-08-28T02:27:53.693Z"
   },
   {
    "duration": 3,
    "start_time": "2022-08-28T02:28:00.295Z"
   },
   {
    "duration": 10,
    "start_time": "2022-08-28T02:28:00.300Z"
   },
   {
    "duration": 10,
    "start_time": "2022-08-28T02:28:00.312Z"
   },
   {
    "duration": 8,
    "start_time": "2022-08-28T02:28:00.324Z"
   },
   {
    "duration": 1619,
    "start_time": "2022-08-28T02:28:31.275Z"
   },
   {
    "duration": 2317,
    "start_time": "2022-08-28T02:28:32.899Z"
   },
   {
    "duration": 12,
    "start_time": "2022-08-28T02:28:35.220Z"
   },
   {
    "duration": 11,
    "start_time": "2022-08-28T02:28:35.234Z"
   },
   {
    "duration": 10,
    "start_time": "2022-08-28T02:28:35.247Z"
   },
   {
    "duration": 9,
    "start_time": "2022-08-28T02:28:35.258Z"
   },
   {
    "duration": 49,
    "start_time": "2022-08-28T02:28:35.269Z"
   },
   {
    "duration": 29,
    "start_time": "2022-08-28T02:28:35.321Z"
   },
   {
    "duration": 235,
    "start_time": "2022-08-28T02:28:35.351Z"
   },
   {
    "duration": 19,
    "start_time": "2022-08-28T02:28:35.588Z"
   },
   {
    "duration": 1952,
    "start_time": "2022-08-28T02:28:35.609Z"
   },
   {
    "duration": 10,
    "start_time": "2022-08-28T02:28:37.563Z"
   },
   {
    "duration": 38840,
    "start_time": "2022-08-28T02:28:37.577Z"
   },
   {
    "duration": 698,
    "start_time": "2022-08-28T02:29:16.418Z"
   },
   {
    "duration": 29,
    "start_time": "2022-08-28T02:29:17.118Z"
   },
   {
    "duration": 21,
    "start_time": "2022-08-28T02:29:17.149Z"
   },
   {
    "duration": 181,
    "start_time": "2022-08-28T02:29:17.172Z"
   },
   {
    "duration": 3,
    "start_time": "2022-08-28T02:29:17.354Z"
   },
   {
    "duration": 42,
    "start_time": "2022-08-28T02:29:17.359Z"
   },
   {
    "duration": 4,
    "start_time": "2022-08-28T02:29:17.403Z"
   },
   {
    "duration": 200,
    "start_time": "2022-08-28T02:29:17.408Z"
   },
   {
    "duration": 6467,
    "start_time": "2022-08-28T02:29:17.611Z"
   },
   {
    "duration": 5,
    "start_time": "2022-08-28T02:29:24.080Z"
   },
   {
    "duration": 10,
    "start_time": "2022-08-28T02:29:24.087Z"
   },
   {
    "duration": 11,
    "start_time": "2022-08-28T02:29:24.099Z"
   },
   {
    "duration": 25,
    "start_time": "2022-08-28T02:29:24.111Z"
   },
   {
    "duration": 1530,
    "start_time": "2022-08-28T02:33:07.427Z"
   },
   {
    "duration": 2183,
    "start_time": "2022-08-28T02:33:08.959Z"
   },
   {
    "duration": 13,
    "start_time": "2022-08-28T02:33:11.144Z"
   },
   {
    "duration": 10,
    "start_time": "2022-08-28T02:33:11.160Z"
   },
   {
    "duration": 14,
    "start_time": "2022-08-28T02:33:11.172Z"
   },
   {
    "duration": 9,
    "start_time": "2022-08-28T02:33:11.187Z"
   },
   {
    "duration": 31,
    "start_time": "2022-08-28T02:33:11.197Z"
   },
   {
    "duration": 26,
    "start_time": "2022-08-28T02:33:11.230Z"
   },
   {
    "duration": 231,
    "start_time": "2022-08-28T02:33:11.258Z"
   },
   {
    "duration": 14,
    "start_time": "2022-08-28T02:33:11.491Z"
   },
   {
    "duration": 1883,
    "start_time": "2022-08-28T02:33:11.506Z"
   },
   {
    "duration": 5,
    "start_time": "2022-08-28T02:33:13.391Z"
   },
   {
    "duration": 38258,
    "start_time": "2022-08-28T02:33:13.398Z"
   },
   {
    "duration": 678,
    "start_time": "2022-08-28T02:33:51.658Z"
   },
   {
    "duration": 10,
    "start_time": "2022-08-28T02:33:52.338Z"
   },
   {
    "duration": 11,
    "start_time": "2022-08-28T02:33:52.350Z"
   },
   {
    "duration": 166,
    "start_time": "2022-08-28T02:33:52.362Z"
   },
   {
    "duration": 4,
    "start_time": "2022-08-28T02:33:52.529Z"
   },
   {
    "duration": 33,
    "start_time": "2022-08-28T02:33:52.534Z"
   },
   {
    "duration": 17,
    "start_time": "2022-08-28T02:33:52.568Z"
   },
   {
    "duration": 199,
    "start_time": "2022-08-28T02:33:52.587Z"
   },
   {
    "duration": 6330,
    "start_time": "2022-08-28T02:33:52.787Z"
   },
   {
    "duration": 4,
    "start_time": "2022-08-28T02:33:59.119Z"
   },
   {
    "duration": 8,
    "start_time": "2022-08-28T02:33:59.124Z"
   },
   {
    "duration": 6,
    "start_time": "2022-08-28T02:33:59.133Z"
   },
   {
    "duration": 5,
    "start_time": "2022-08-28T02:33:59.140Z"
   },
   {
    "duration": 122,
    "start_time": "2022-08-28T02:35:28.837Z"
   },
   {
    "duration": 3,
    "start_time": "2022-08-28T02:35:36.657Z"
   },
   {
    "duration": 3,
    "start_time": "2022-08-28T02:36:05.550Z"
   },
   {
    "duration": 1623,
    "start_time": "2022-08-28T02:36:35.747Z"
   },
   {
    "duration": 2195,
    "start_time": "2022-08-28T02:36:37.372Z"
   },
   {
    "duration": 11,
    "start_time": "2022-08-28T02:36:39.568Z"
   },
   {
    "duration": 11,
    "start_time": "2022-08-28T02:36:39.580Z"
   },
   {
    "duration": 8,
    "start_time": "2022-08-28T02:36:39.593Z"
   },
   {
    "duration": 10,
    "start_time": "2022-08-28T02:36:39.602Z"
   },
   {
    "duration": 33,
    "start_time": "2022-08-28T02:36:39.614Z"
   },
   {
    "duration": 45,
    "start_time": "2022-08-28T02:36:39.648Z"
   },
   {
    "duration": 218,
    "start_time": "2022-08-28T02:36:39.695Z"
   },
   {
    "duration": 13,
    "start_time": "2022-08-28T02:36:39.915Z"
   },
   {
    "duration": 1931,
    "start_time": "2022-08-28T02:36:39.930Z"
   },
   {
    "duration": 9,
    "start_time": "2022-08-28T02:36:41.863Z"
   },
   {
    "duration": 37443,
    "start_time": "2022-08-28T02:36:41.874Z"
   },
   {
    "duration": 668,
    "start_time": "2022-08-28T02:37:19.320Z"
   },
   {
    "duration": 10,
    "start_time": "2022-08-28T02:37:19.990Z"
   },
   {
    "duration": 10,
    "start_time": "2022-08-28T02:37:20.002Z"
   },
   {
    "duration": 154,
    "start_time": "2022-08-28T02:37:20.013Z"
   },
   {
    "duration": 2,
    "start_time": "2022-08-28T02:37:20.169Z"
   },
   {
    "duration": 31,
    "start_time": "2022-08-28T02:37:20.172Z"
   },
   {
    "duration": 4,
    "start_time": "2022-08-28T02:37:20.205Z"
   },
   {
    "duration": 213,
    "start_time": "2022-08-28T02:37:20.211Z"
   },
   {
    "duration": 6220,
    "start_time": "2022-08-28T02:37:20.426Z"
   },
   {
    "duration": 3,
    "start_time": "2022-08-28T02:37:26.647Z"
   },
   {
    "duration": 9,
    "start_time": "2022-08-28T02:37:26.652Z"
   },
   {
    "duration": 8,
    "start_time": "2022-08-28T02:37:26.662Z"
   },
   {
    "duration": 5,
    "start_time": "2022-08-28T02:37:26.671Z"
   },
   {
    "duration": 9,
    "start_time": "2022-08-28T02:37:26.677Z"
   },
   {
    "duration": 2017,
    "start_time": "2022-08-28T17:18:08.939Z"
   },
   {
    "duration": 172,
    "start_time": "2022-08-28T17:18:10.958Z"
   },
   {
    "duration": 0,
    "start_time": "2022-08-28T17:18:11.133Z"
   },
   {
    "duration": 0,
    "start_time": "2022-08-28T17:18:11.134Z"
   },
   {
    "duration": 0,
    "start_time": "2022-08-28T17:18:11.135Z"
   },
   {
    "duration": 0,
    "start_time": "2022-08-28T17:18:11.136Z"
   },
   {
    "duration": 0,
    "start_time": "2022-08-28T17:18:11.137Z"
   },
   {
    "duration": 0,
    "start_time": "2022-08-28T17:18:11.138Z"
   },
   {
    "duration": 0,
    "start_time": "2022-08-28T17:18:11.139Z"
   },
   {
    "duration": 0,
    "start_time": "2022-08-28T17:18:11.140Z"
   },
   {
    "duration": 0,
    "start_time": "2022-08-28T17:18:11.141Z"
   },
   {
    "duration": 0,
    "start_time": "2022-08-28T17:18:11.141Z"
   },
   {
    "duration": 0,
    "start_time": "2022-08-28T17:18:11.143Z"
   },
   {
    "duration": 0,
    "start_time": "2022-08-28T17:18:11.144Z"
   },
   {
    "duration": 0,
    "start_time": "2022-08-28T17:18:11.145Z"
   },
   {
    "duration": 0,
    "start_time": "2022-08-28T17:18:11.145Z"
   },
   {
    "duration": 0,
    "start_time": "2022-08-28T17:18:11.146Z"
   },
   {
    "duration": 0,
    "start_time": "2022-08-28T17:18:11.147Z"
   },
   {
    "duration": 0,
    "start_time": "2022-08-28T17:18:11.148Z"
   },
   {
    "duration": 0,
    "start_time": "2022-08-28T17:18:11.150Z"
   },
   {
    "duration": 0,
    "start_time": "2022-08-28T17:18:11.151Z"
   },
   {
    "duration": 0,
    "start_time": "2022-08-28T17:18:11.153Z"
   },
   {
    "duration": 0,
    "start_time": "2022-08-28T17:18:11.154Z"
   },
   {
    "duration": 0,
    "start_time": "2022-08-28T17:18:11.155Z"
   },
   {
    "duration": 0,
    "start_time": "2022-08-28T17:18:11.156Z"
   },
   {
    "duration": 0,
    "start_time": "2022-08-28T17:18:11.156Z"
   },
   {
    "duration": 0,
    "start_time": "2022-08-28T17:18:11.157Z"
   },
   {
    "duration": 0,
    "start_time": "2022-08-28T17:18:11.159Z"
   },
   {
    "duration": 0,
    "start_time": "2022-08-28T17:18:11.160Z"
   },
   {
    "duration": 0,
    "start_time": "2022-08-28T17:18:11.161Z"
   },
   {
    "duration": 0,
    "start_time": "2022-08-28T17:18:11.163Z"
   },
   {
    "duration": 0,
    "start_time": "2022-08-28T17:18:11.164Z"
   },
   {
    "duration": 0,
    "start_time": "2022-08-28T17:18:11.165Z"
   },
   {
    "duration": 0,
    "start_time": "2022-08-28T17:18:11.211Z"
   },
   {
    "duration": 0,
    "start_time": "2022-08-28T17:18:11.212Z"
   },
   {
    "duration": 0,
    "start_time": "2022-08-28T17:18:11.213Z"
   },
   {
    "duration": 1410,
    "start_time": "2022-08-28T19:25:41.447Z"
   },
   {
    "duration": 2365,
    "start_time": "2022-08-28T19:25:49.630Z"
   },
   {
    "duration": 11,
    "start_time": "2022-08-28T19:25:54.029Z"
   },
   {
    "duration": 8,
    "start_time": "2022-08-28T19:25:54.172Z"
   },
   {
    "duration": 6,
    "start_time": "2022-08-28T19:25:54.576Z"
   },
   {
    "duration": 3,
    "start_time": "2022-08-28T19:25:55.038Z"
   },
   {
    "duration": 28,
    "start_time": "2022-08-28T19:25:56.107Z"
   },
   {
    "duration": 21,
    "start_time": "2022-08-28T19:25:57.755Z"
   },
   {
    "duration": 240,
    "start_time": "2022-08-28T19:25:58.224Z"
   },
   {
    "duration": 13,
    "start_time": "2022-08-28T19:25:58.577Z"
   },
   {
    "duration": 278,
    "start_time": "2022-08-28T19:26:32.663Z"
   },
   {
    "duration": 5,
    "start_time": "2022-08-28T19:26:38.241Z"
   },
   {
    "duration": 3,
    "start_time": "2022-08-28T19:26:43.655Z"
   },
   {
    "duration": 4,
    "start_time": "2022-08-28T19:26:49.912Z"
   },
   {
    "duration": 2,
    "start_time": "2022-08-28T19:26:54.642Z"
   },
   {
    "duration": 4,
    "start_time": "2022-08-28T19:26:59.823Z"
   },
   {
    "duration": 5151,
    "start_time": "2022-08-28T19:27:05.009Z"
   },
   {
    "duration": 1268652,
    "start_time": "2022-08-28T19:27:19.323Z"
   },
   {
    "duration": 3,
    "start_time": "2022-08-28T19:48:29.738Z"
   },
   {
    "duration": 5,
    "start_time": "2022-08-28T19:48:30.524Z"
   },
   {
    "duration": 7,
    "start_time": "2022-08-28T19:48:32.066Z"
   },
   {
    "duration": 160,
    "start_time": "2022-08-28T19:53:07.564Z"
   },
   {
    "duration": 3,
    "start_time": "2022-08-28T19:53:15.361Z"
   },
   {
    "duration": 21,
    "start_time": "2022-08-28T19:53:16.360Z"
   },
   {
    "duration": 4,
    "start_time": "2022-08-28T19:53:17.724Z"
   },
   {
    "duration": 159,
    "start_time": "2022-08-28T19:53:20.943Z"
   },
   {
    "duration": 6176,
    "start_time": "2022-08-28T19:53:24.024Z"
   },
   {
    "duration": 5,
    "start_time": "2022-08-28T19:53:32.531Z"
   },
   {
    "duration": 4,
    "start_time": "2022-08-28T19:53:37.829Z"
   },
   {
    "duration": 4,
    "start_time": "2022-08-28T19:53:42.725Z"
   },
   {
    "duration": 4,
    "start_time": "2022-08-28T19:53:56.473Z"
   },
   {
    "duration": 667972,
    "start_time": "2022-08-28T19:54:03.383Z"
   },
   {
    "duration": 4,
    "start_time": "2022-08-28T20:05:23.628Z"
   },
   {
    "duration": 0,
    "start_time": "2022-08-28T20:06:05.933Z"
   },
   {
    "duration": 10,
    "start_time": "2022-08-28T20:06:22.453Z"
   },
   {
    "duration": 9,
    "start_time": "2022-08-28T20:06:35.331Z"
   },
   {
    "duration": 5,
    "start_time": "2022-08-28T20:06:38.535Z"
   },
   {
    "duration": 4,
    "start_time": "2022-08-28T20:06:44.189Z"
   },
   {
    "duration": 315201,
    "start_time": "2022-08-28T20:06:58.533Z"
   },
   {
    "duration": 51,
    "start_time": "2022-08-28T20:12:30.764Z"
   },
   {
    "duration": 128786,
    "start_time": "2022-08-28T20:12:41.243Z"
   },
   {
    "duration": 115100,
    "start_time": "2022-08-28T20:14:53.029Z"
   },
   {
    "duration": 583016,
    "start_time": "2022-08-28T20:16:53.960Z"
   },
   {
    "duration": 144535,
    "start_time": "2022-08-28T20:27:52.553Z"
   },
   {
    "duration": 360670,
    "start_time": "2022-08-28T20:30:17.089Z"
   },
   {
    "duration": 3885977,
    "start_time": "2022-08-28T20:36:17.761Z"
   },
   {
    "duration": 0,
    "start_time": "2022-08-28T21:41:03.740Z"
   },
   {
    "duration": 4460147,
    "start_time": "2022-08-28T21:41:21.687Z"
   },
   {
    "duration": 103816,
    "start_time": "2022-08-28T22:55:47.504Z"
   },
   {
    "duration": 207605,
    "start_time": "2022-08-28T22:57:43.123Z"
   },
   {
    "duration": 9,
    "start_time": "2022-08-28T23:02:23.649Z"
   },
   {
    "duration": 6,
    "start_time": "2022-08-28T23:03:08.666Z"
   },
   {
    "duration": 38,
    "start_time": "2022-08-28T23:03:11.452Z"
   },
   {
    "duration": 24107,
    "start_time": "2022-08-28T23:03:28.189Z"
   },
   {
    "duration": 7663,
    "start_time": "2022-08-28T23:03:55.477Z"
   },
   {
    "duration": 63692,
    "start_time": "2022-08-28T23:05:05.373Z"
   },
   {
    "duration": 48,
    "start_time": "2022-08-28T23:08:10.395Z"
   },
   {
    "duration": 435382,
    "start_time": "2022-08-28T23:15:33.248Z"
   },
   {
    "duration": 6,
    "start_time": "2022-08-28T23:24:23.492Z"
   },
   {
    "duration": 6,
    "start_time": "2022-08-28T23:24:27.048Z"
   },
   {
    "duration": 4832,
    "start_time": "2022-08-28T23:26:53.388Z"
   },
   {
    "duration": 18129,
    "start_time": "2022-08-28T23:27:06.917Z"
   },
   {
    "duration": 53,
    "start_time": "2022-08-28T23:28:02.448Z"
   },
   {
    "duration": 21044,
    "start_time": "2022-08-28T23:28:06.005Z"
   },
   {
    "duration": 1044248,
    "start_time": "2022-08-28T23:30:01.071Z"
   },
   {
    "duration": 6,
    "start_time": "2022-08-28T23:47:41.162Z"
   },
   {
    "duration": 7,
    "start_time": "2022-08-28T23:47:43.012Z"
   },
   {
    "duration": 10345,
    "start_time": "2022-08-28T23:48:18.569Z"
   },
   {
    "duration": 215,
    "start_time": "2022-08-28T23:54:47.462Z"
   }
  ],
  "kernelspec": {
   "display_name": "Python 3 (ipykernel)",
   "language": "python",
   "name": "python3"
  },
  "language_info": {
   "codemirror_mode": {
    "name": "ipython",
    "version": 3
   },
   "file_extension": ".py",
   "mimetype": "text/x-python",
   "name": "python",
   "nbconvert_exporter": "python",
   "pygments_lexer": "ipython3",
   "version": "3.9.7"
  },
  "toc": {
   "base_numbering": 1,
   "nav_menu": {},
   "number_sections": true,
   "sideBar": true,
   "skip_h1_title": true,
   "title_cell": "Содержание",
   "title_sidebar": "Contents",
   "toc_cell": true,
   "toc_position": {
    "height": "calc(100% - 180px)",
    "left": "10px",
    "top": "150px",
    "width": "192.375px"
   },
   "toc_section_display": true,
   "toc_window_display": true
  }
 },
 "nbformat": 4,
 "nbformat_minor": 2
}
